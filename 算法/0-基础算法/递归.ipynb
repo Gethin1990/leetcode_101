{
 "cells": [
  {
   "cell_type": "markdown",
   "metadata": {},
   "source": [
    "## 递归框架"
   ]
  },
  {
   "cell_type": "code",
   "execution_count": null,
   "metadata": {},
   "outputs": [],
   "source": [
    "def do(nums):\n",
    "    i = 0\n",
    "    n = len(nums)  # =n，细节1：正常声明\n",
    "    # 递归函数\n",
    "    def re_fn(i):\n",
    "        if(i >= n):  # 细节2：>= 会递归n次\n",
    "            return \"result\"\n",
    "        print(\"pre i:\", i)  # 细节3 递归前置操作 - 递推 fn\n",
    "        # i+=1 # 细节5 如果动态操作放在pre fn中，则后续需要suf fn来修补。\n",
    "        o = re_fn(i+1)  # 执行递归 递归逻辑在i+1 左in 右out\n",
    "        #i-=1\n",
    "        print(\"suf i:\", i, \"suf o:\", o)  # 细节4 回归后置操作 i是过程参数会自动回归，而o是输出\n",
    "        return i  # 细节4 o 有3种可能性 last 值, i 过程值, 和没有返回的None值, 这取决于你的返回\n",
    "    # 调用递归\n",
    "    return re_fn(i)\n",
    "    # re_fn(i)\n",
    "nums = [6, 5, 4, 3, 2, 1]\n",
    "r = do(nums)\n",
    "print(r)"
   ]
  },
  {
   "cell_type": "markdown",
   "metadata": {},
   "source": [
    "## 链表递归"
   ]
  },
  {
   "cell_type": "code",
   "execution_count": 1,
   "metadata": {},
   "outputs": [],
   "source": [
    "class ListNode:\n",
    "    def __init__(self, val=0, next=None):\n",
    "        self.val = val\n",
    "        self.next = next\n",
    "\n",
    "def build_list(count: int) -> ListNode:\n",
    "    i = 0\n",
    "    sentinel = ListNode(0)\n",
    "    node = ListNode(0)\n",
    "    sentinel.next = node\n",
    "    _current = node\n",
    "    while _current:\n",
    "        if i == count:\n",
    "            break\n",
    "        i += 1\n",
    "        _current.next = ListNode(i)\n",
    "        _current = _current.next\n",
    "\n",
    "    li = sentinel.next\n",
    "    return li"
   ]
  },
  {
   "cell_type": "code",
   "execution_count": 2,
   "metadata": {},
   "outputs": [
    {
     "name": "stdout",
     "output_type": "stream",
     "text": [
      "pre: 0\n",
      "pre: 1\n",
      "pre: 2\n",
      "pre: 3\n",
      "suf: 3 out: 4\n",
      "suf: 2 out: 3\n",
      "suf: 1 out: 2\n",
      "suf: 0 out: 1\n",
      "0\n"
     ]
    }
   ],
   "source": [
    "def do(node: ListNode):\n",
    "    def re_fn(node):\n",
    "        if(node is None or node.next is None):\n",
    "            return node\n",
    "        print(\"pre:\", node.val)\n",
    "        o = re_fn(node.next)\n",
    "        print(\"suf:\", node.val, \"out:\", o.val)\n",
    "        #node.next = o\n",
    "        return node\n",
    "    return re_fn(node)\n",
    "node = build_list(4)\n",
    "r = do(node)\n",
    "print(r.val)"
   ]
  }
 ],
 "metadata": {
  "interpreter": {
   "hash": "4ac9d338047ee315c97ea37f6541047cacb733d63b81fe50ebd4bfbd588e590b"
  },
  "kernelspec": {
   "display_name": "Python 3.10.2 64-bit",
   "language": "python",
   "name": "python3"
  },
  "language_info": {
   "codemirror_mode": {
    "name": "ipython",
    "version": 3
   },
   "file_extension": ".py",
   "mimetype": "text/x-python",
   "name": "python",
   "nbconvert_exporter": "python",
   "pygments_lexer": "ipython3",
   "version": "3.10.2"
  },
  "orig_nbformat": 4
 },
 "nbformat": 4,
 "nbformat_minor": 2
}
