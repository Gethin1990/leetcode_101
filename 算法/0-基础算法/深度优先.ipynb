{
 "cells": [
  {
   "cell_type": "markdown",
   "metadata": {},
   "source": [
    "## 深度优先算法框架 DFS"
   ]
  },
  {
   "cell_type": "code",
   "execution_count": 7,
   "metadata": {},
   "outputs": [],
   "source": [
    "# 构建树数据结构\n",
    "class TreeNode:\n",
    "    def __init__(self, val=0, left=None, right=None) -> None:\n",
    "        self.val = val\n",
    "        self.left = left\n",
    "        self.right = right\n",
    "class Tree:\n",
    "    def __init__(self) -> None:\n",
    "        self.root = None\n",
    "\n",
    "    def add(self, item):\n",
    "        node = TreeNode(item)\n",
    "\n",
    "        if self.root is None:\n",
    "            self.root = node\n",
    "        else:\n",
    "            q = [self.root]\n",
    "            while q:\n",
    "                point = q.pop(0)\n",
    "                if point.left is None:\n",
    "                    point.left = node\n",
    "                    return\n",
    "                if point.right is None:\n",
    "                    point.right = node\n",
    "                    return\n",
    "                else:\n",
    "                    q.append(point.left)\n",
    "                    q.append(point.right)\n",
    "\n",
    "    def travel(self, root: TreeNode):\n",
    "        if root is None:\n",
    "            return []\n",
    "        arr = [] # 存值变量\n",
    "        q = [] # 操作引入临时变量\n",
    "        q.append(root)\n",
    "        while q:\n",
    "            point = q.pop(0)\n",
    "            arr.append(point.val)\n",
    "            if point.left:\n",
    "                q.append(point.left)\n",
    "            if point.right:\n",
    "                q.append(point.right)\n",
    "        return arr"
   ]
  },
  {
   "cell_type": "code",
   "execution_count": 8,
   "metadata": {},
   "outputs": [
    {
     "name": "stdout",
     "output_type": "stream",
     "text": [
      "0\n",
      "1\n",
      "2\n",
      "2\n",
      "1\n"
     ]
    },
    {
     "data": {
      "text/plain": [
       "3"
      ]
     },
     "execution_count": 8,
     "metadata": {},
     "output_type": "execute_result"
    }
   ],
   "source": [
    "def do(root: TreeNode):\n",
    "    def dfs(node, depth):\n",
    "        if node is None:\n",
    "            return 0  # depth base\n",
    "        #print(depth)  # tag depth\n",
    "        l_o = dfs(node.left, depth + 1)\n",
    "        r_o = dfs(node.right, depth + 1)\n",
    "        deep = max(l_o, r_o) + 1\n",
    "        return deep\n",
    "\n",
    "    return dfs(root, 0)\n",
    "\n",
    "\n",
    "tree = Tree()\n",
    "arr = [1, 2, 3, 4, 5]\n",
    "for val in arr:\n",
    "    tree.add(val)\n",
    "do(tree.root)\n"
   ]
  },
  {
   "cell_type": "markdown",
   "metadata": {},
   "source": [
    "N叉树深度优先（回溯框架基础）"
   ]
  },
  {
   "cell_type": "code",
   "execution_count": 1,
   "metadata": {},
   "outputs": [],
   "source": [
    "# 构建N叉树数据结\n",
    "class TreeNode:\n",
    "    def __init__(self, val=0, children=None) -> None:\n",
    "        self.val = val\n",
    "        self.children = children\n",
    "class Tree:\n",
    "    def build_demo(self)->TreeNode:\n",
    "        t0 = TreeNode(0)\n",
    "        t1 = TreeNode(1)\n",
    "        t2 = TreeNode(2)\n",
    "        t3 = TreeNode(3)\n",
    "        t4 = TreeNode(4)\n",
    "        t5 = TreeNode(5)\n",
    "        t6 = TreeNode(6)\n",
    "        t7 = TreeNode(7)\n",
    "        t3.children = [t7]\n",
    "        t1.children = [t3, t4]\n",
    "        t0.children = [t1, t2]\n",
    "        return t0\n"
   ]
  },
  {
   "cell_type": "code",
   "execution_count": 3,
   "metadata": {},
   "outputs": [
    {
     "name": "stdout",
     "output_type": "stream",
     "text": [
      "[2]\n",
      "[3]\n",
      "[3, 2]\n",
      "[4]\n",
      "[4, 2]\n",
      "4\n"
     ]
    }
   ],
   "source": [
    "def do(root: TreeNode):\n",
    "    def back_track(node) -> int:\n",
    "        result = []\n",
    "        if node is None:\n",
    "            return 0\n",
    "        if node.children is None:\n",
    "            return 1\n",
    "        for child in node.children:\n",
    "            o = back_track(child)\n",
    "            o = o + 1\n",
    "            result.append(o)\n",
    "            #print(result)\n",
    "        max_deep = max(result)\n",
    "        return max_deep\n",
    "\n",
    "    return back_track(root)\n",
    "\n",
    "\n",
    "tree = Tree()\n",
    "root = tree.build_demo()\n",
    "r = do(root)\n",
    "print(r)"
   ]
  }
 ],
 "metadata": {
  "interpreter": {
   "hash": "4ac9d338047ee315c97ea37f6541047cacb733d63b81fe50ebd4bfbd588e590b"
  },
  "kernelspec": {
   "display_name": "Python 3.10.2 64-bit",
   "language": "python",
   "name": "python3"
  },
  "language_info": {
   "codemirror_mode": {
    "name": "ipython",
    "version": 3
   },
   "file_extension": ".py",
   "mimetype": "text/x-python",
   "name": "python",
   "nbconvert_exporter": "python",
   "pygments_lexer": "ipython3",
   "version": "3.10.2"
  },
  "orig_nbformat": 4
 },
 "nbformat": 4,
 "nbformat_minor": 2
}
