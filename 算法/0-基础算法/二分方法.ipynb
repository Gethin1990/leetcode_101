{
 "cells": [
  {
   "cell_type": "markdown",
   "metadata": {},
   "source": [
    "## 二分搜索"
   ]
  },
  {
   "cell_type": "code",
   "execution_count": 1,
   "metadata": {},
   "outputs": [],
   "source": [
    "def binary_search(nums, target):\n",
    "    left = 0\n",
    "    right = len(nums) - 1\n",
    "    while left <= right:\n",
    "        mid = (left + right) // 2 # 二分\n",
    "        if nums[mid] == target:\n",
    "            # 直接返回\n",
    "            return mid\n",
    "        elif nums[mid] < target: # l 确定边界\n",
    "            left = mid + 1\n",
    "        elif nums[mid] > target: # r 确定边界\n",
    "            right = mid - 1\n",
    "    # 直接返回\n",
    "    return -1\n",
    "\n",
    "def binary_search_re(nums, target):\n",
    "    left, right = 0, len(nums) - 1\n",
    "\n",
    "    def re_fn(left, right, target):\n",
    "        if left > right:\n",
    "            return -1\n",
    "        mid = (left + right) // 2\n",
    "        if nums[mid] == target:\n",
    "            return mid\n",
    "        if nums[mid] < target:\n",
    "            o = re_fn(mid + 1, right, target)\n",
    "        if nums[mid] > target:\n",
    "            o = re_fn(left, mid - 1, target)\n",
    "        return o\n",
    "    return re_fn(left, right, target)"
   ]
  },
  {
   "cell_type": "code",
   "execution_count": 11,
   "metadata": {},
   "outputs": [
    {
     "name": "stdout",
     "output_type": "stream",
     "text": [
      "3\n"
     ]
    }
   ],
   "source": [
    "def test():\n",
    "    nums = [0, 3, 4, 5, 6, 7]\n",
    "    target = 5\n",
    "    r = binary_search(nums, target)\n",
    "    print(r)\n",
    "test()\n"
   ]
  },
  {
   "cell_type": "markdown",
   "metadata": {},
   "source": [
    "## 二分排序（快速排序）"
   ]
  },
  {
   "cell_type": "code",
   "execution_count": null,
   "metadata": {},
   "outputs": [],
   "source": [
    "def quicksort2(array):\n",
    "    if len(array) < 2:\n",
    "        return array  # 基线条件：为空或只包含一个元素的数组是“有序”的\n",
    "    else:\n",
    "        pivot = array[0]  # 递归条件\n",
    "        less = [i for i in array[1:] if i <= pivot]  # 由所有小于基准值的元素组成的子数组\n",
    "        greater = [i for i in array[1:] if i > pivot]  # 由所有大于基准值的元素组成的子数组\n",
    "        o_less = quicksort2(less)\n",
    "        o_greater = quicksort2(greater)\n",
    "    return o_less + [pivot] + o_greater"
   ]
  },
  {
   "cell_type": "code",
   "execution_count": null,
   "metadata": {},
   "outputs": [],
   "source": [
    "def test():\n",
    "    nums = [0, 3, 4, 5, 6, 7]\n",
    "    target = 0\n",
    "    r = binary_search_re(nums, target)\n",
    "    print(r)\n",
    "test()"
   ]
  }
 ],
 "metadata": {
  "interpreter": {
   "hash": "4ac9d338047ee315c97ea37f6541047cacb733d63b81fe50ebd4bfbd588e590b"
  },
  "kernelspec": {
   "display_name": "Python 3.10.2 64-bit",
   "language": "python",
   "name": "python3"
  },
  "language_info": {
   "codemirror_mode": {
    "name": "ipython",
    "version": 3
   },
   "file_extension": ".py",
   "mimetype": "text/x-python",
   "name": "python",
   "nbconvert_exporter": "python",
   "pygments_lexer": "ipython3",
   "version": "3.10.2"
  },
  "orig_nbformat": 4
 },
 "nbformat": 4,
 "nbformat_minor": 2
}
